{
 "cells": [
  {
   "cell_type": "code",
   "execution_count": 1,
   "id": "41062d8a",
   "metadata": {},
   "outputs": [],
   "source": [
    "# Import libraries\n",
    "import pandas as pd\n",
    "import pickle\n",
    "from sklearn.linear_model import LinearRegression\n",
    "from sklearn.metrics import mean_squared_error\n",
    "from sklearn.feature_extraction import DictVectorizer"
   ]
  },
  {
   "cell_type": "code",
   "execution_count": 19,
   "id": "bd2490ab-c341-4184-9beb-aefd600086c7",
   "metadata": {},
   "outputs": [],
   "source": [
    "# Extract the data into Train and Test Dataframes\n",
    "df_train = pd.read_parquet('https://d37ci6vzurychx.cloudfront.net/trip-data/yellow_tripdata_2023-01.parquet')\n",
    "df_test = pd.read_parquet('https://d37ci6vzurychx.cloudfront.net/trip-data/yellow_tripdata_2023-02.parquet')"
   ]
  },
  {
   "cell_type": "code",
   "execution_count": 20,
   "id": "af872f40-229b-435a-9464-5f92c2f1e128",
   "metadata": {},
   "outputs": [
    {
     "name": "stdout",
     "output_type": "stream",
     "text": [
      "Number of columns of df_train:  19\n"
     ]
    }
   ],
   "source": [
    "# Question 1. Downloading the data\n",
    "print(\"Number of columns of df_train: \", df_train.shape[1])"
   ]
  },
  {
   "cell_type": "code",
   "execution_count": 21,
   "id": "b176b184-7d61-4fdb-af24-b98e3fdcc8df",
   "metadata": {},
   "outputs": [
    {
     "name": "stdout",
     "output_type": "stream",
     "text": [
      "Standard deviation of the trips duration in January 2023:  42.594351241920904\n"
     ]
    }
   ],
   "source": [
    "# Question 2. Computing duration\n",
    "df_train['duration'] = df_train.tpep_dropoff_datetime - df_train.tpep_pickup_datetime\n",
    "df_train.duration = df_train.duration.apply(lambda td: td.total_seconds() / 60)\n",
    "print(\"Standard deviation of the trips duration in January 2023: \", df_train.duration.std())"
   ]
  },
  {
   "cell_type": "code",
   "execution_count": 22,
   "id": "72fcb7ed-1d0b-4c95-9235-12873164c2a7",
   "metadata": {},
   "outputs": [
    {
     "name": "stdout",
     "output_type": "stream",
     "text": [
      "Fraction of the records left after dropping the outliers: 98%\n"
     ]
    }
   ],
   "source": [
    "# Question 3. Dropping outliers\n",
    "df_train_ = df_train[(df_train.duration >= 1) & (df_train.duration <= 60)]\n",
    "fraction = (df_train_.shape[0] / df_train.shape[0])*100\n",
    "print(f'Fraction of the records left after dropping the outliers: {\"%.0f\" % round(fraction, 0)}%') "
   ]
  },
  {
   "cell_type": "code",
   "execution_count": 23,
   "id": "92ba9bf3-68e7-4703-b5f9-625c902f75c8",
   "metadata": {},
   "outputs": [
    {
     "name": "stdout",
     "output_type": "stream",
     "text": [
      "Number of columns of X_train: 515\n"
     ]
    }
   ],
   "source": [
    "# Question 4. One-hot encoding\n",
    "df_train = df_train[(df_train.duration >= 1) & (df_train.duration <= 60)]\n",
    "\n",
    "categorical = ['PULocationID', 'DOLocationID']\n",
    "df_train[categorical] = df_train[categorical].astype(str)\n",
    "\n",
    "train_dicts = df_train[categorical].to_dict(orient='records')\n",
    "\n",
    "dv = DictVectorizer()\n",
    "X_train = dv.fit_transform(train_dicts)\n",
    "\n",
    "print(\"Number of columns of X_train:\", X_train.shape[1])"
   ]
  },
  {
   "cell_type": "code",
   "execution_count": 24,
   "id": "d0b9eaf4-dacb-45af-bacc-dd1802214c02",
   "metadata": {},
   "outputs": [
    {
     "name": "stdout",
     "output_type": "stream",
     "text": [
      "RMSE on the training data:  7.649261927665777\n"
     ]
    }
   ],
   "source": [
    "# Question 5. Training a model. RMSE on train\n",
    "target = 'duration'\n",
    "y_train = df_train[target].values\n",
    "\n",
    "lr = LinearRegression()\n",
    "lr.fit(X_train, y_train)\n",
    "\n",
    "y_pred = lr.predict(X_train)\n",
    "\n",
    "print(\"RMSE on the training data: \", mean_squared_error(y_train, y_pred, squared=False))"
   ]
  },
  {
   "cell_type": "code",
   "execution_count": 25,
   "id": "a3d65412-53e3-4fe5-873d-fe6c97f4fb25",
   "metadata": {
    "scrolled": true
   },
   "outputs": [
    {
     "name": "stdout",
     "output_type": "stream",
     "text": [
      "RMSE on the validation data:  7.811817548344513\n"
     ]
    }
   ],
   "source": [
    "# Question 6. Evaluating the model. RMSE on validation\n",
    "df_test['duration'] = df_test.tpep_dropoff_datetime - df_test.tpep_pickup_datetime\n",
    "df_test.duration = df_test.duration.apply(lambda td: td.total_seconds() / 60)\n",
    "\n",
    "df_test = df_test[(df_test.duration >= 1) & (df_test.duration <= 60)]\n",
    "df_test[categorical] = df_test[categorical].astype(str)\n",
    "\n",
    "test_dicts = df_test[categorical].to_dict(orient='records')\n",
    "\n",
    "X_test = dv.transform(test_dicts)\n",
    "y_test = df_test[target].values\n",
    "y_pred = lr.predict(X_test)\n",
    "\n",
    "print(\"RMSE on the validation data: \", mean_squared_error(y_test, y_pred, squared=False))"
   ]
  }
 ],
 "metadata": {
  "kernelspec": {
   "display_name": "Python 3 (ipykernel)",
   "language": "python",
   "name": "python3"
  },
  "language_info": {
   "codemirror_mode": {
    "name": "ipython",
    "version": 3
   },
   "file_extension": ".py",
   "mimetype": "text/x-python",
   "name": "python",
   "nbconvert_exporter": "python",
   "pygments_lexer": "ipython3",
   "version": "3.11.7"
  }
 },
 "nbformat": 4,
 "nbformat_minor": 5
}
